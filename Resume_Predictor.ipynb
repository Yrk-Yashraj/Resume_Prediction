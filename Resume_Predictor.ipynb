{
  "cells": [
    {
      "cell_type": "markdown",
      "metadata": {
        "id": "A1BAVnifSvgV"
      },
      "source": [
        "# Resume Screening\n"
      ]
    },
    {
      "cell_type": "markdown",
      "metadata": {
        "id": "gpjS0dF07Bys"
      },
      "source": [
        "# **1. Importing the required libraries:**\n",
        "\n",
        "\n",
        "\n",
        "\n"
      ]
    },
    {
      "cell_type": "code",
      "execution_count": null,
      "metadata": {
        "id": "zFsNpsbx7NZL"
      },
      "outputs": [],
      "source": [
        "import numpy as np\n",
        "import pandas as pd\n",
        "import matplotlib.pyplot as plt\n",
        "import seaborn as sns"
      ]
    },
    {
      "cell_type": "markdown",
      "metadata": {
        "id": "M6CC1BBk7WAF"
      },
      "source": [
        "# **2. Loading the desired resume dataset:**"
      ]
    },
    {
      "cell_type": "code",
      "execution_count": null,
      "metadata": {
        "colab": {
          "base_uri": "https://localhost:8080/"
        },
        "id": "mpJVJyyGxL-3",
        "outputId": "5f12e39d-4b72-4cba-8cfc-0b72e6e077f6"
      },
      "outputs": [
        {
          "name": "stdout",
          "output_type": "stream",
          "text": [
            "Drive already mounted at /content/drive; to attempt to forcibly remount, call drive.mount(\"/content/drive\", force_remount=True).\n"
          ]
        }
      ],
      "source": [
        "# from google.colab import drive\n",
        "# drive.mount('/content/drive')"
      ]
    },
    {
      "cell_type": "code",
      "execution_count": null,
      "metadata": {
        "id": "E1gaffRU7VYS"
      },
      "outputs": [],
      "source": [
        "df = pd.read_csv(\"resumedata1.csv\")"
      ]
    },
    {
      "cell_type": "code",
      "execution_count": null,
      "metadata": {
        "colab": {
          "base_uri": "https://localhost:8080/",
          "height": 423
        },
        "id": "AjKRYbHlw--c",
        "outputId": "f65ffa1d-61f2-47b7-a827-47a274ff616f"
      },
      "outputs": [
        {
          "output_type": "execute_result",
          "data": {
            "text/plain": [
              "          Category                                             Resume\n",
              "0     Data Science  Skills * Programming Languages: Python (pandas...\n",
              "1     Data Science  Education Details \\r\\nMay 2013 to May 2017 B.E...\n",
              "2     Data Science  Areas of Interest Deep Learning, Control Syste...\n",
              "3     Data Science  Skills â¢ R â¢ Python â¢ SAP HANA â¢ Table...\n",
              "4     Data Science  Education Details \\r\\n MCA   YMCAUST,  Faridab...\n",
              "...            ...                                                ...\n",
              "1996            hr  hr consultant summary detail oriented 25 years...\n",
              "1997            hr  hr coordinator summary to obtain a challenging...\n",
              "1998            hr  hr manager summary human resources professiona...\n",
              "1999            hr  hr generalist summary human resource manager a...\n",
              "2000            hr  hr partner summary experienced human resources...\n",
              "\n",
              "[2001 rows x 2 columns]"
            ],
            "text/html": [
              "\n",
              "  <div id=\"df-bb370af2-2feb-4c46-a21a-a8678ae33774\" class=\"colab-df-container\">\n",
              "    <div>\n",
              "<style scoped>\n",
              "    .dataframe tbody tr th:only-of-type {\n",
              "        vertical-align: middle;\n",
              "    }\n",
              "\n",
              "    .dataframe tbody tr th {\n",
              "        vertical-align: top;\n",
              "    }\n",
              "\n",
              "    .dataframe thead th {\n",
              "        text-align: right;\n",
              "    }\n",
              "</style>\n",
              "<table border=\"1\" class=\"dataframe\">\n",
              "  <thead>\n",
              "    <tr style=\"text-align: right;\">\n",
              "      <th></th>\n",
              "      <th>Category</th>\n",
              "      <th>Resume</th>\n",
              "    </tr>\n",
              "  </thead>\n",
              "  <tbody>\n",
              "    <tr>\n",
              "      <th>0</th>\n",
              "      <td>Data Science</td>\n",
              "      <td>Skills * Programming Languages: Python (pandas...</td>\n",
              "    </tr>\n",
              "    <tr>\n",
              "      <th>1</th>\n",
              "      <td>Data Science</td>\n",
              "      <td>Education Details \\r\\nMay 2013 to May 2017 B.E...</td>\n",
              "    </tr>\n",
              "    <tr>\n",
              "      <th>2</th>\n",
              "      <td>Data Science</td>\n",
              "      <td>Areas of Interest Deep Learning, Control Syste...</td>\n",
              "    </tr>\n",
              "    <tr>\n",
              "      <th>3</th>\n",
              "      <td>Data Science</td>\n",
              "      <td>Skills â¢ R â¢ Python â¢ SAP HANA â¢ Table...</td>\n",
              "    </tr>\n",
              "    <tr>\n",
              "      <th>4</th>\n",
              "      <td>Data Science</td>\n",
              "      <td>Education Details \\r\\n MCA   YMCAUST,  Faridab...</td>\n",
              "    </tr>\n",
              "    <tr>\n",
              "      <th>...</th>\n",
              "      <td>...</td>\n",
              "      <td>...</td>\n",
              "    </tr>\n",
              "    <tr>\n",
              "      <th>1996</th>\n",
              "      <td>hr</td>\n",
              "      <td>hr consultant summary detail oriented 25 years...</td>\n",
              "    </tr>\n",
              "    <tr>\n",
              "      <th>1997</th>\n",
              "      <td>hr</td>\n",
              "      <td>hr coordinator summary to obtain a challenging...</td>\n",
              "    </tr>\n",
              "    <tr>\n",
              "      <th>1998</th>\n",
              "      <td>hr</td>\n",
              "      <td>hr manager summary human resources professiona...</td>\n",
              "    </tr>\n",
              "    <tr>\n",
              "      <th>1999</th>\n",
              "      <td>hr</td>\n",
              "      <td>hr generalist summary human resource manager a...</td>\n",
              "    </tr>\n",
              "    <tr>\n",
              "      <th>2000</th>\n",
              "      <td>hr</td>\n",
              "      <td>hr partner summary experienced human resources...</td>\n",
              "    </tr>\n",
              "  </tbody>\n",
              "</table>\n",
              "<p>2001 rows × 2 columns</p>\n",
              "</div>\n",
              "    <div class=\"colab-df-buttons\">\n",
              "\n",
              "  <div class=\"colab-df-container\">\n",
              "    <button class=\"colab-df-convert\" onclick=\"convertToInteractive('df-bb370af2-2feb-4c46-a21a-a8678ae33774')\"\n",
              "            title=\"Convert this dataframe to an interactive table.\"\n",
              "            style=\"display:none;\">\n",
              "\n",
              "  <svg xmlns=\"http://www.w3.org/2000/svg\" height=\"24px\" viewBox=\"0 -960 960 960\">\n",
              "    <path d=\"M120-120v-720h720v720H120Zm60-500h600v-160H180v160Zm220 220h160v-160H400v160Zm0 220h160v-160H400v160ZM180-400h160v-160H180v160Zm440 0h160v-160H620v160ZM180-180h160v-160H180v160Zm440 0h160v-160H620v160Z\"/>\n",
              "  </svg>\n",
              "    </button>\n",
              "\n",
              "  <style>\n",
              "    .colab-df-container {\n",
              "      display:flex;\n",
              "      gap: 12px;\n",
              "    }\n",
              "\n",
              "    .colab-df-convert {\n",
              "      background-color: #E8F0FE;\n",
              "      border: none;\n",
              "      border-radius: 50%;\n",
              "      cursor: pointer;\n",
              "      display: none;\n",
              "      fill: #1967D2;\n",
              "      height: 32px;\n",
              "      padding: 0 0 0 0;\n",
              "      width: 32px;\n",
              "    }\n",
              "\n",
              "    .colab-df-convert:hover {\n",
              "      background-color: #E2EBFA;\n",
              "      box-shadow: 0px 1px 2px rgba(60, 64, 67, 0.3), 0px 1px 3px 1px rgba(60, 64, 67, 0.15);\n",
              "      fill: #174EA6;\n",
              "    }\n",
              "\n",
              "    .colab-df-buttons div {\n",
              "      margin-bottom: 4px;\n",
              "    }\n",
              "\n",
              "    [theme=dark] .colab-df-convert {\n",
              "      background-color: #3B4455;\n",
              "      fill: #D2E3FC;\n",
              "    }\n",
              "\n",
              "    [theme=dark] .colab-df-convert:hover {\n",
              "      background-color: #434B5C;\n",
              "      box-shadow: 0px 1px 3px 1px rgba(0, 0, 0, 0.15);\n",
              "      filter: drop-shadow(0px 1px 2px rgba(0, 0, 0, 0.3));\n",
              "      fill: #FFFFFF;\n",
              "    }\n",
              "  </style>\n",
              "\n",
              "    <script>\n",
              "      const buttonEl =\n",
              "        document.querySelector('#df-bb370af2-2feb-4c46-a21a-a8678ae33774 button.colab-df-convert');\n",
              "      buttonEl.style.display =\n",
              "        google.colab.kernel.accessAllowed ? 'block' : 'none';\n",
              "\n",
              "      async function convertToInteractive(key) {\n",
              "        const element = document.querySelector('#df-bb370af2-2feb-4c46-a21a-a8678ae33774');\n",
              "        const dataTable =\n",
              "          await google.colab.kernel.invokeFunction('convertToInteractive',\n",
              "                                                    [key], {});\n",
              "        if (!dataTable) return;\n",
              "\n",
              "        const docLinkHtml = 'Like what you see? Visit the ' +\n",
              "          '<a target=\"_blank\" href=https://colab.research.google.com/notebooks/data_table.ipynb>data table notebook</a>'\n",
              "          + ' to learn more about interactive tables.';\n",
              "        element.innerHTML = '';\n",
              "        dataTable['output_type'] = 'display_data';\n",
              "        await google.colab.output.renderOutput(dataTable, element);\n",
              "        const docLink = document.createElement('div');\n",
              "        docLink.innerHTML = docLinkHtml;\n",
              "        element.appendChild(docLink);\n",
              "      }\n",
              "    </script>\n",
              "  </div>\n",
              "\n",
              "\n",
              "<div id=\"df-c84382a1-af77-45ef-9897-b34e08b2497b\">\n",
              "  <button class=\"colab-df-quickchart\" onclick=\"quickchart('df-c84382a1-af77-45ef-9897-b34e08b2497b')\"\n",
              "            title=\"Suggest charts\"\n",
              "            style=\"display:none;\">\n",
              "\n",
              "<svg xmlns=\"http://www.w3.org/2000/svg\" height=\"24px\"viewBox=\"0 0 24 24\"\n",
              "     width=\"24px\">\n",
              "    <g>\n",
              "        <path d=\"M19 3H5c-1.1 0-2 .9-2 2v14c0 1.1.9 2 2 2h14c1.1 0 2-.9 2-2V5c0-1.1-.9-2-2-2zM9 17H7v-7h2v7zm4 0h-2V7h2v10zm4 0h-2v-4h2v4z\"/>\n",
              "    </g>\n",
              "</svg>\n",
              "  </button>\n",
              "\n",
              "<style>\n",
              "  .colab-df-quickchart {\n",
              "      --bg-color: #E8F0FE;\n",
              "      --fill-color: #1967D2;\n",
              "      --hover-bg-color: #E2EBFA;\n",
              "      --hover-fill-color: #174EA6;\n",
              "      --disabled-fill-color: #AAA;\n",
              "      --disabled-bg-color: #DDD;\n",
              "  }\n",
              "\n",
              "  [theme=dark] .colab-df-quickchart {\n",
              "      --bg-color: #3B4455;\n",
              "      --fill-color: #D2E3FC;\n",
              "      --hover-bg-color: #434B5C;\n",
              "      --hover-fill-color: #FFFFFF;\n",
              "      --disabled-bg-color: #3B4455;\n",
              "      --disabled-fill-color: #666;\n",
              "  }\n",
              "\n",
              "  .colab-df-quickchart {\n",
              "    background-color: var(--bg-color);\n",
              "    border: none;\n",
              "    border-radius: 50%;\n",
              "    cursor: pointer;\n",
              "    display: none;\n",
              "    fill: var(--fill-color);\n",
              "    height: 32px;\n",
              "    padding: 0;\n",
              "    width: 32px;\n",
              "  }\n",
              "\n",
              "  .colab-df-quickchart:hover {\n",
              "    background-color: var(--hover-bg-color);\n",
              "    box-shadow: 0 1px 2px rgba(60, 64, 67, 0.3), 0 1px 3px 1px rgba(60, 64, 67, 0.15);\n",
              "    fill: var(--button-hover-fill-color);\n",
              "  }\n",
              "\n",
              "  .colab-df-quickchart-complete:disabled,\n",
              "  .colab-df-quickchart-complete:disabled:hover {\n",
              "    background-color: var(--disabled-bg-color);\n",
              "    fill: var(--disabled-fill-color);\n",
              "    box-shadow: none;\n",
              "  }\n",
              "\n",
              "  .colab-df-spinner {\n",
              "    border: 2px solid var(--fill-color);\n",
              "    border-color: transparent;\n",
              "    border-bottom-color: var(--fill-color);\n",
              "    animation:\n",
              "      spin 1s steps(1) infinite;\n",
              "  }\n",
              "\n",
              "  @keyframes spin {\n",
              "    0% {\n",
              "      border-color: transparent;\n",
              "      border-bottom-color: var(--fill-color);\n",
              "      border-left-color: var(--fill-color);\n",
              "    }\n",
              "    20% {\n",
              "      border-color: transparent;\n",
              "      border-left-color: var(--fill-color);\n",
              "      border-top-color: var(--fill-color);\n",
              "    }\n",
              "    30% {\n",
              "      border-color: transparent;\n",
              "      border-left-color: var(--fill-color);\n",
              "      border-top-color: var(--fill-color);\n",
              "      border-right-color: var(--fill-color);\n",
              "    }\n",
              "    40% {\n",
              "      border-color: transparent;\n",
              "      border-right-color: var(--fill-color);\n",
              "      border-top-color: var(--fill-color);\n",
              "    }\n",
              "    60% {\n",
              "      border-color: transparent;\n",
              "      border-right-color: var(--fill-color);\n",
              "    }\n",
              "    80% {\n",
              "      border-color: transparent;\n",
              "      border-right-color: var(--fill-color);\n",
              "      border-bottom-color: var(--fill-color);\n",
              "    }\n",
              "    90% {\n",
              "      border-color: transparent;\n",
              "      border-bottom-color: var(--fill-color);\n",
              "    }\n",
              "  }\n",
              "</style>\n",
              "\n",
              "  <script>\n",
              "    async function quickchart(key) {\n",
              "      const quickchartButtonEl =\n",
              "        document.querySelector('#' + key + ' button');\n",
              "      quickchartButtonEl.disabled = true;  // To prevent multiple clicks.\n",
              "      quickchartButtonEl.classList.add('colab-df-spinner');\n",
              "      try {\n",
              "        const charts = await google.colab.kernel.invokeFunction(\n",
              "            'suggestCharts', [key], {});\n",
              "      } catch (error) {\n",
              "        console.error('Error during call to suggestCharts:', error);\n",
              "      }\n",
              "      quickchartButtonEl.classList.remove('colab-df-spinner');\n",
              "      quickchartButtonEl.classList.add('colab-df-quickchart-complete');\n",
              "    }\n",
              "    (() => {\n",
              "      let quickchartButtonEl =\n",
              "        document.querySelector('#df-c84382a1-af77-45ef-9897-b34e08b2497b button');\n",
              "      quickchartButtonEl.style.display =\n",
              "        google.colab.kernel.accessAllowed ? 'block' : 'none';\n",
              "    })();\n",
              "  </script>\n",
              "</div>\n",
              "    </div>\n",
              "  </div>\n"
            ],
            "application/vnd.google.colaboratory.intrinsic+json": {
              "type": "dataframe",
              "variable_name": "df",
              "summary": "{\n  \"name\": \"df\",\n  \"rows\": 2001,\n  \"fields\": [\n    {\n      \"column\": \"Category\",\n      \"properties\": {\n        \"dtype\": \"category\",\n        \"num_unique_values\": 42,\n        \"samples\": [\n          \"accountant\",\n          \"Electrical Engineering\",\n          \"Civil Engineer\"\n        ],\n        \"semantic_type\": \"\",\n        \"description\": \"\"\n      }\n    },\n    {\n      \"column\": \"Resume\",\n      \"properties\": {\n        \"dtype\": \"category\",\n        \"num_unique_values\": 965,\n        \"samples\": [\n          \"engineering aide professional summary resourceful facilities tech with solid background in preventative maintenance repair talented facilities tech with more than 3 years of experience developing and executing maintenance programs excellent troubleshooting skills detail oriented professional with strong technical skills and the ability to learn concepts quickly highlights q mechanically inclined q diagnosis and repair q skilled concrete finisher q preventative maintenance q dexterous with hand tools q suspension and alignment q strong attention to detail q brake systems expertise q troubleshooting q brake repair and replacement q responsible and reliable q strategic thinker q excellent problem solver q self starter q decisive q critical thinker accomplishments machine troubleshooting q performed effective troubleshooting of machines systems number per week month year repaired broad range of machines or systems including types of machines or systems using tools problem diagnosis q used operational knowledge of systems parts and components to solve problems that arose during assembly documentation q reported and documented unsafe conditions equipment and or injury training q responsible for providing vision and guidance to a group of 20 construction employees training them on sufficient project plans and procedures equipment maintenance q performed routine maintenance on equipment on as needed basis inventory control q restocked and organized items as necessary and as directed machine repair q detected machine malfunctions and problem solved accordingly q repaired maintained and replaced parts on dies skills work history engineering aide 12 2006 to 04 2009 company name city state aided other departments in the development of plans and cost estimates on road parking lot and drainage projects computed load and grade requirements and material stress factors to determine design specifications wrote daily detailed reports logging work progress for quality assurance purposes completed all repairs and maintenance work to company standards planned work and determined appropriate tools and equipment took care of facility equipment grounds roads and fences service technician 08 2004 to 12 2006 company name city state followed checklists to verify that all important parts were examined serviced air conditioning heating engine cooling and electrical systems rebuilt faulty assemblies including steering systems and linkages examined vehicles to determine the extent of damage or malfunctions specialized in servicing brakes and fuel systems communicated with customers regarding vehicle issues and potential repairs repaired and replaced belts hoses and steering systems executed all phases of power system tear down and repair operated pneumatic tools and air compressors removed and replaced tires shocks struts and brakes contributed to repeat and referral business by using strong customer service and problem solving skills repaired and replaced radiators and water pumps organized work records and filed reports transported customers to and from the shop for the customer service program concrete finisher 05 1997 to 07 2004 company name city state shaped and built roads using large construction equipment operated a bulldozer to properly deploy waste products at compactors documented daily equipment inspections and submitted daily inspection forms to supervisor performed daily maintenance to the machine cab and wheels operated equipment safely and efficiently at all times serviced and maintained vehicles and heavy equipment correctly used aggregate sizes and classifications for all road construction listened to warning alarms and responded accordingly loaded proper materials while abiding by all safety and legal standards obtained proper signatures as required monitored various gauges during vehicle operation and investigated and repaired any abnormalities operated and maintained a forklift truck in a safe and efficient manner retained shop order segregation during yard movement set and read grade stakes to construct roads parking lots building pads landfills and sediment ponds executed daily pre trip and post trip inspections and documentation in compliance with dot guidelines and company policies completed all repairs and maintenance work to company standards counted and verified orders picked to ensure accuracy planned work and determined appropriate tools and equipment 05 1989 to 06 1996 company name followed checklists to verify that all important parts were examined organized work records and filed reports education diploma general studies 1 1986 maury high school state general studies industrial maintenance industrial engineering production engineering mechanical engineering and engineering welding fabrication industrial and tool manufacturing technology and process technology lamar institute of technology city state gpa gpa 4 0 industrial maintenance gpa 4 0 industrial engineering production engineering mechanical engineering and engineering welding fabrication industrial and tool manufacturing technology and process technology skills customer service customer service documentation forklift forms legal materials policies problem solving skills progress quality assurance read repairs safety struts supervisor tear\",\n          \"a la carte chef chef de cuisine summary a professional cook with 10 years of combined on the job work training and experience with a background in managerial and non managerial positions from high quality restaurants and organizations with a firm foundation built on the respect and execution of proper cooking techniques and the importance of always being able to learn and grow as a professional highlights focused and disciplined high volume production capability focus on portion and cost control inventory management familiarity sous vide technique effective communicator organizational skils task oriented experience company name city state a la carte chef chef de cuisine 10 2015 to current supervise 10 cooks across two kitchens encourage and motivate staff members to uphold quality standards in keeping with club traditions and expectations planning and preparation of three seasonal menus creating nightly specials revolving around seasonality using as many local ingredients as possible contemporary and trendy cuisine with respect to traditions and favourites of the club and its members effectively expedites a la carte service management of protein perishable and dry goods inventory with a focus on utilisation and cost effectiveness 100 200 covers nightly company name city state sous chef 04 2015 to current effectively managing a kitchen team of 12 cooks and stewards over two kitchens on property tasked with the preparation and execution of special event menus planning and executing a daily changing dinner menu strong focus on locality of ingredients responsible for an extensive running inventory of fresh proteins training new cooks and team members to understand quality standards and proper cooking techniques 75 175 covers nightly company name city state lead expeditor 02 2014 to 02 2015 the masters golf tournament terrace kitchen high pressure environment time management stress management effective planning and organisational skills 800 1100 covers in 3 hours company name 12 2009 to 05 2014 merion cricket club haverford pa junior sous chef viking culinary center haverford pa chef instructor cloud catering and events nyc ny cook the black rat winchester england stage craigie on main cambridge ma stage four seasons resort aviara carlsbad ca intern education 2009 culinary institute of america city state bachelors of professional studies culinary arts and restaurant management assisted with numerous school sponsored catering events for up to 450 people member of the inter collegiate soccer team four years serving as captain one year kitchen assistant for saturday morning 15 person adult education classes residence assistant 2 1 2 years skills interpersonal skills cooking critical thinking dependability focused human relations inventory listening skills time and personnel management skills stress management supervision teaching leadership enthusiasm passion for cooking problem solving\",\n          \"staff accountant summary highly analytical and detail oriented professional possessing extensive financial statement background in quality assurance compliance auditing customer service and regulatory requirements thorough knowledge of financial reporting cash and accrual basis accounting fund basis reporting gaap and other accounting standards adapt quickly when new software and systems are installed proficient with quickbooks mas adp condo manager adobe and all microsoft applications software excel in problem solving and strategic planning skills highlights dba quick books mas sage software microsoft excel adp drive microsoft access condo manager microsoft word education bachelor of science accounting may 2010 university of north carolina city state accounting bachelor of science business administration finance may 2010 business administration finance experience staff accountant january 2014 to october 2014 company name city state performed all month end functions to produce financial statements the functions include reconciliation of the operating and payroll bank accounts recorded sales for the month recorded payroll journals accrued payroll recorded sales tax submitted sales tax to nc department of revenue recorded inventory adjustments and recorded balance sheet month end entries entered all payables and receivables for the 7 franchise locations worked with vendors to resolve any situations that arose reviewed and maintained that all needed franchise document were on file and up to date worked directly with controller on year end review assembled all requested financial and legal documentation that was put into presentable formats maintained weekly spreadsheet on collected franchise royalties and advertising fees this spreadsheet is used for the year end audit managed a company that owned and rented out 12 commercial properties of a shopping center to approved businesses responsible for negotiating rent rates for new or renewing tenants writing leases collecting rent cash flow management payables and resolving any tenant complaints or inquires managed a company that was a small farming entity responsible for maintaining cash flow all payables and setting up credit accounts with vendors entered all payroll journals and maintained cash flow for company that employed labor to work at farming entity filed north carolina annual report for all companies managed by cary keisler inc and verified that all were current on their filings staff accountant march 2013 to january 2014 company name city state collect daily deposits for newly entered sos as well the balance for any so that has completed once a job status report has been ran interact directly with customers on outstanding deposits and balances due responsible for all po and non po payable entry coding for all companies work directly with vendors to resolve and discrepancy with payables pull weekly unpaid bills reports that are used for cash flow projections complete weekly check run for all companies reconcile monthly purchasing american express credit card that ranges from 60 000 00 100 000 00 helped facilitate roll of purchasing manager during turnover period from september 2013 december 2013 responsible for ordering needed materials supplies for factory production floor worked directly with vp of finance and members of the production floor in collection of data to develop unit valuation this information combined with continued data collection is being used for future bills of materials and job costing staff accountant april 2012 to march 2013 company name state lead reconciliation of balance sheet to ensure no discrepancy with general ledger research and resolve any transaction deviating from ordinary operations run project cost reconciliation at month end to ensure all billable expenses are posted to a project this ensures all enries are posted to the correct project and general ledger account this provides billing information as well as the correct bottom line for each project design excel spreadsheet for prepaid employee benefits for eom reconciliation purposes reconcile american express accounts for sdi and battleware 10 accounts responsible for all entry and custodial book keeping of sdi s fixed assets for depreciation purposes daily reconciliation sdi s operating interest sweep and line of credit accounts for most accurate cash projections responsible for coding and entry of all payables items for sdi and battleware prepare monthly sales and use tax financial management partner july 2010 to august 2011 company name city state identified reported tracked and resolved subsidiary ledger discrepancies in all phases of the revenues and receivables accounting processes provide an end to end financial statement assurance and accurate presentation by aiding and completing tasks in all areas of operations performing all monthly bank reconciliations applying all required financial regulations in preparing and delivery of financial statements provided support to clients and other employees via email on implementations software support and financial reporting issues in all aspects of day to day operations trained new accounting department employees with functionality demonstration to assist in proficient accounting support and software transitioning i e quickbooks peachtree and excel transitioning able to perform duties of all departments of accounting including accounts payable accounts receivable legal coordination and transactional audit and review coordinate lien and foreclosure preparations research ownership status and balance histories in order to accurately file legal claims on behalf of our cliental constant analysis of all clients interim financial reports and comparative statements to verify the validity and monitor for inconsistency prepare variance reports and explanations to quickly summarize areas of increased variances in expenses assist other areas of management in fund accounting budget preparations and presentation at annual and monthly board meetings coordinate and prepare materials for audits review and tax returns assist in annual budget preparations prepare billings for all cycles perform all adjusting month end transactions and required g l posting entries required to correct errors or balance discrepancies interests alpha sigma phi officer and chair positions january 2006 may 2010 vice president social chair greek week delegate livestrong foundation bike a thon skills accounting accounts payable accounts receivable adp advertising ar balance sheet balance bank reconciliations benefits billing billings book keeping budget cash flow projections cash flow controller credit clients data collection delivery documentation email finance financial financial reporting financial statements fixed assets general ledger inventory job costing ledger legal materials meetings microsoft access microsoft excel excel microsoft word negotiating dba payables payroll peachtree processes coding purchasing express quick books quickbooks research sage sales spreadsheet tax software support valuation year end additional information activities alpha sigma phi officer and chair positions january 2006 may 2010 vice president social chair greek week delegate livestrong foundation bike a thon\"\n        ],\n        \"semantic_type\": \"\",\n        \"description\": \"\"\n      }\n    }\n  ]\n}"
            }
          },
          "metadata": {},
          "execution_count": 19
        }
      ],
      "source": [
        "df"
      ]
    },
    {
      "cell_type": "markdown",
      "metadata": {
        "id": "DJ-_vxf-8IwS"
      },
      "source": [
        "# **3. Finding existing job categories:**\n",
        "\n",
        "\n"
      ]
    },
    {
      "cell_type": "code",
      "execution_count": null,
      "metadata": {
        "colab": {
          "base_uri": "https://localhost:8080/"
        },
        "id": "JbArLFjc8Ss0",
        "outputId": "8c86cde4-9213-4546-d01e-3cc8bb5e50f1"
      },
      "outputs": [
        {
          "output_type": "execute_result",
          "data": {
            "text/plain": [
              "Category\n",
              "accountant                   118\n",
              "engineering                  118\n",
              "chef                         118\n",
              "banking                      115\n",
              "construction                 112\n",
              "digital media                 96\n",
              "Java Developer                84\n",
              "Testing                       70\n",
              "DevOps Engineer               55\n",
              "devops engineer               55\n",
              "Python Developer              48\n",
              "Web Designing                 45\n",
              "HR                            44\n",
              "Hadoop                        42\n",
              "Blockchain                    40\n",
              "data science                  40\n",
              "etl developer                 40\n",
              "Data Science                  40\n",
              "ETL Developer                 40\n",
              "Mechanical Engineer           40\n",
              "Operations Manager            40\n",
              "Sales                         40\n",
              "hr                            36\n",
              "Arts                          36\n",
              "database                      33\n",
              "Database                      33\n",
              "PMO                           30\n",
              "Health and fitness            30\n",
              "Electrical Engineering        30\n",
              "electrical engineering        30\n",
              "business analyst              28\n",
              "DotNet Developer              28\n",
              "dotnet developer              28\n",
              "Business Analyst              28\n",
              "automation testing            26\n",
              "Automation Testing            26\n",
              "Network Security Engineer     25\n",
              "SAP Developer                 24\n",
              "civil engineer                24\n",
              "Civil Engineer                24\n",
              "bpo                           22\n",
              "Advocate                      20\n",
              "Name: count, dtype: int64"
            ]
          },
          "metadata": {},
          "execution_count": 20
        }
      ],
      "source": [
        "df['Category'].value_counts()"
      ]
    },
    {
      "cell_type": "code",
      "execution_count": null,
      "metadata": {
        "colab": {
          "base_uri": "https://localhost:8080/",
          "height": 654
        },
        "id": "pv32BChg8shi",
        "outputId": "10f0872b-d31d-4a47-e16e-4fa3e40c3e62"
      },
      "outputs": [
        {
          "output_type": "execute_result",
          "data": {
            "text/plain": [
              "<Axes: xlabel='Category', ylabel='count'>"
            ]
          },
          "metadata": {},
          "execution_count": 21
        },
        {
          "output_type": "display_data",
          "data": {
            "text/plain": [
              "<Figure size 1500x500 with 1 Axes>"
            ],
            "image/png": "[encoded data removed]"
          },
          "metadata": {}
        }
      ],
      "source": [
        "plt.figure(figsize=(15,5))\n",
        "plt.xticks(rotation=90)\n",
        "sns.countplot(x=\"Category\", data=df)"
      ]
    },
    {
      "cell_type": "markdown",
      "metadata": {
        "id": "AKBK6mUnslIP"
      },
      "source": [
        "# **4. Removing redundant job categories**"
      ]
    },
    {
      "cell_type": "code",
      "execution_count": null,
      "metadata": {
        "colab": {
          "base_uri": "https://localhost:8080/",
          "height": 423
        },
        "id": "1P6w7SpxsrCU",
        "outputId": "da448368-dc94-4e02-cfa9-5fec14c8d2ce"
      },
      "outputs": [
        {
          "output_type": "execute_result",
          "data": {
            "text/plain": [
              "          Category                                             Resume\n",
              "0     data science  Skills * Programming Languages: Python (pandas...\n",
              "1     data science  Education Details \\r\\nMay 2013 to May 2017 B.E...\n",
              "2     data science  Areas of Interest Deep Learning, Control Syste...\n",
              "3     data science  Skills â¢ R â¢ Python â¢ SAP HANA â¢ Table...\n",
              "4     data science  Education Details \\r\\n MCA   YMCAUST,  Faridab...\n",
              "...            ...                                                ...\n",
              "1996            hr  hr consultant summary detail oriented 25 years...\n",
              "1997            hr  hr coordinator summary to obtain a challenging...\n",
              "1998            hr  hr manager summary human resources professiona...\n",
              "1999            hr  hr generalist summary human resource manager a...\n",
              "2000            hr  hr partner summary experienced human resources...\n",
              "\n",
              "[965 rows x 2 columns]"
            ],
            "text/html": [
              "\n",
              "  <div id=\"df-85ed36b7-c46e-49d2-87ae-cd0d55744e95\" class=\"colab-df-container\">\n",
              "    <div>\n",
              "<style scoped>\n",
              "    .dataframe tbody tr th:only-of-type {\n",
              "        vertical-align: middle;\n",
              "    }\n",
              "\n",
              "    .dataframe tbody tr th {\n",
              "        vertical-align: top;\n",
              "    }\n",
              "\n",
              "    .dataframe thead th {\n",
              "        text-align: right;\n",
              "    }\n",
              "</style>\n",
              "<table border=\"1\" class=\"dataframe\">\n",
              "  <thead>\n",
              "    <tr style=\"text-align: right;\">\n",
              "      <th></th>\n",
              "      <th>Category</th>\n",
              "      <th>Resume</th>\n",
              "    </tr>\n",
              "  </thead>\n",
              "  <tbody>\n",
              "    <tr>\n",
              "      <th>0</th>\n",
              "      <td>data science</td>\n",
              "      <td>Skills * Programming Languages: Python (pandas...</td>\n",
              "    </tr>\n",
              "    <tr>\n",
              "      <th>1</th>\n",
              "      <td>data science</td>\n",
              "      <td>Education Details \\r\\nMay 2013 to May 2017 B.E...</td>\n",
              "    </tr>\n",
              "    <tr>\n",
              "      <th>2</th>\n",
              "      <td>data science</td>\n",
              "      <td>Areas of Interest Deep Learning, Control Syste...</td>\n",
              "    </tr>\n",
              "    <tr>\n",
              "      <th>3</th>\n",
              "      <td>data science</td>\n",
              "      <td>Skills â¢ R â¢ Python â¢ SAP HANA â¢ Table...</td>\n",
              "    </tr>\n",
              "    <tr>\n",
              "      <th>4</th>\n",
              "      <td>data science</td>\n",
              "      <td>Education Details \\r\\n MCA   YMCAUST,  Faridab...</td>\n",
              "    </tr>\n",
              "    <tr>\n",
              "      <th>...</th>\n",
              "      <td>...</td>\n",
              "      <td>...</td>\n",
              "    </tr>\n",
              "    <tr>\n",
              "      <th>1996</th>\n",
              "      <td>hr</td>\n",
              "      <td>hr consultant summary detail oriented 25 years...</td>\n",
              "    </tr>\n",
              "    <tr>\n",
              "      <th>1997</th>\n",
              "      <td>hr</td>\n",
              "      <td>hr coordinator summary to obtain a challenging...</td>\n",
              "    </tr>\n",
              "    <tr>\n",
              "      <th>1998</th>\n",
              "      <td>hr</td>\n",
              "      <td>hr manager summary human resources professiona...</td>\n",
              "    </tr>\n",
              "    <tr>\n",
              "      <th>1999</th>\n",
              "      <td>hr</td>\n",
              "      <td>hr generalist summary human resource manager a...</td>\n",
              "    </tr>\n",
              "    <tr>\n",
              "      <th>2000</th>\n",
              "      <td>hr</td>\n",
              "      <td>hr partner summary experienced human resources...</td>\n",
              "    </tr>\n",
              "  </tbody>\n",
              "</table>\n",
              "<p>965 rows × 2 columns</p>\n",
              "</div>\n",
              "    <div class=\"colab-df-buttons\">\n",
              "\n",
              "  <div class=\"colab-df-container\">\n",
              "    <button class=\"colab-df-convert\" onclick=\"convertToInteractive('df-85ed36b7-c46e-49d2-87ae-cd0d55744e95')\"\n",
              "            title=\"Convert this dataframe to an interactive table.\"\n",
              "            style=\"display:none;\">\n",
              "\n",
              "  <svg xmlns=\"http://www.w3.org/2000/svg\" height=\"24px\" viewBox=\"0 -960 960 960\">\n",
              "    <path d=\"M120-120v-720h720v720H120Zm60-500h600v-160H180v160Zm220 220h160v-160H400v160Zm0 220h160v-160H400v160ZM180-400h160v-160H180v160Zm440 0h160v-160H620v160ZM180-180h160v-160H180v160Zm440 0h160v-160H620v160Z\"/>\n",
              "  </svg>\n",
              "    </button>\n",
              "\n",
              "  <style>\n",
              "    .colab-df-container {\n",
              "      display:flex;\n",
              "      gap: 12px;\n",
              "    }\n",
              "\n",
              "    .colab-df-convert {\n",
              "      background-color: #E8F0FE;\n",
              "      border: none;\n",
              "      border-radius: 50%;\n",
              "      cursor: pointer;\n",
              "      display: none;\n",
              "      fill: #1967D2;\n",
              "      height: 32px;\n",
              "      padding: 0 0 0 0;\n",
              "      width: 32px;\n",
              "    }\n",
              "\n",
              "    .colab-df-convert:hover {\n",
              "      background-color: #E2EBFA;\n",
              "      box-shadow: 0px 1px 2px rgba(60, 64, 67, 0.3), 0px 1px 3px 1px rgba(60, 64, 67, 0.15);\n",
              "      fill: #174EA6;\n",
              "    }\n",
              "\n",
              "    .colab-df-buttons div {\n",
              "      margin-bottom: 4px;\n",
              "    }\n",
              "\n",
              "    [theme=dark] .colab-df-convert {\n",
              "      background-color: #3B4455;\n",
              "      fill: #D2E3FC;\n",
              "    }\n",
              "\n",
              "    [theme=dark] .colab-df-convert:hover {\n",
              "      background-color: #434B5C;\n",
              "      box-shadow: 0px 1px 3px 1px rgba(0, 0, 0, 0.15);\n",
              "      filter: drop-shadow(0px 1px 2px rgba(0, 0, 0, 0.3));\n",
              "      fill: #FFFFFF;\n",
              "    }\n",
              "  </style>\n",
              "\n",
              "    <script>\n",
              "      const buttonEl =\n",
              "        document.querySelector('#df-85ed36b7-c46e-49d2-87ae-cd0d55744e95 button.colab-df-convert');\n",
              "      buttonEl.style.display =\n",
              "        google.colab.kernel.accessAllowed ? 'block' : 'none';\n",
              "\n",
              "      async function convertToInteractive(key) {\n",
              "        const element = document.querySelector('#df-85ed36b7-c46e-49d2-87ae-cd0d55744e95');\n",
              "        const dataTable =\n",
              "          await google.colab.kernel.invokeFunction('convertToInteractive',\n",
              "                                                    [key], {});\n",
              "        if (!dataTable) return;\n",
              "\n",
              "        const docLinkHtml = 'Like what you see? Visit the ' +\n",
              "          '<a target=\"_blank\" href=https://colab.research.google.com/notebooks/data_table.ipynb>data table notebook</a>'\n",
              "          + ' to learn more about interactive tables.';\n",
              "        element.innerHTML = '';\n",
              "        dataTable['output_type'] = 'display_data';\n",
              "        await google.colab.output.renderOutput(dataTable, element);\n",
              "        const docLink = document.createElement('div');\n",
              "        docLink.innerHTML = docLinkHtml;\n",
              "        element.appendChild(docLink);\n",
              "      }\n",
              "    </script>\n",
              "  </div>\n",
              "\n",
              "\n",
              "<div id=\"df-a2176558-3c4f-4449-b542-aebada559880\">\n",
              "  <button class=\"colab-df-quickchart\" onclick=\"quickchart('df-a2176558-3c4f-4449-b542-aebada559880')\"\n",
              "            title=\"Suggest charts\"\n",
              "            style=\"display:none;\">\n",
              "\n",
              "<svg xmlns=\"http://www.w3.org/2000/svg\" height=\"24px\"viewBox=\"0 0 24 24\"\n",
              "     width=\"24px\">\n",
              "    <g>\n",
              "        <path d=\"M19 3H5c-1.1 0-2 .9-2 2v14c0 1.1.9 2 2 2h14c1.1 0 2-.9 2-2V5c0-1.1-.9-2-2-2zM9 17H7v-7h2v7zm4 0h-2V7h2v10zm4 0h-2v-4h2v4z\"/>\n",
              "    </g>\n",
              "</svg>\n",
              "  </button>\n",
              "\n",
              "<style>\n",
              "  .colab-df-quickchart {\n",
              "      --bg-color: #E8F0FE;\n",
              "      --fill-color: #1967D2;\n",
              "      --hover-bg-color: #E2EBFA;\n",
              "      --hover-fill-color: #174EA6;\n",
              "      --disabled-fill-color: #AAA;\n",
              "      --disabled-bg-color: #DDD;\n",
              "  }\n",
              "\n",
              "  [theme=dark] .colab-df-quickchart {\n",
              "      --bg-color: #3B4455;\n",
              "      --fill-color: #D2E3FC;\n",
              "      --hover-bg-color: #434B5C;\n",
              "      --hover-fill-color: #FFFFFF;\n",
              "      --disabled-bg-color: #3B4455;\n",
              "      --disabled-fill-color: #666;\n",
              "  }\n",
              "\n",
              "  .colab-df-quickchart {\n",
              "    background-color: var(--bg-color);\n",
              "    border: none;\n",
              "    border-radius: 50%;\n",
              "    cursor: pointer;\n",
              "    display: none;\n",
              "    fill: var(--fill-color);\n",
              "    height: 32px;\n",
              "    padding: 0;\n",
              "    width: 32px;\n",
              "  }\n",
              "\n",
              "  .colab-df-quickchart:hover {\n",
              "    background-color: var(--hover-bg-color);\n",
              "    box-shadow: 0 1px 2px rgba(60, 64, 67, 0.3), 0 1px 3px 1px rgba(60, 64, 67, 0.15);\n",
              "    fill: var(--button-hover-fill-color);\n",
              "  }\n",
              "\n",
              "  .colab-df-quickchart-complete:disabled,\n",
              "  .colab-df-quickchart-complete:disabled:hover {\n",
              "    background-color: var(--disabled-bg-color);\n",
              "    fill: var(--disabled-fill-color);\n",
              "    box-shadow: none;\n",
              "  }\n",
              "\n",
              "  .colab-df-spinner {\n",
              "    border: 2px solid var(--fill-color);\n",
              "    border-color: transparent;\n",
              "    border-bottom-color: var(--fill-color);\n",
              "    animation:\n",
              "      spin 1s steps(1) infinite;\n",
              "  }\n",
              "\n",
              "  @keyframes spin {\n",
              "    0% {\n",
              "      border-color: transparent;\n",
              "      border-bottom-color: var(--fill-color);\n",
              "      border-left-color: var(--fill-color);\n",
              "    }\n",
              "    20% {\n",
              "      border-color: transparent;\n",
              "      border-left-color: var(--fill-color);\n",
              "      border-top-color: var(--fill-color);\n",
              "    }\n",
              "    30% {\n",
              "      border-color: transparent;\n",
              "      border-left-color: var(--fill-color);\n",
              "      border-top-color: var(--fill-color);\n",
              "      border-right-color: var(--fill-color);\n",
              "    }\n",
              "    40% {\n",
              "      border-color: transparent;\n",
              "      border-right-color: var(--fill-color);\n",
              "      border-top-color: var(--fill-color);\n",
              "    }\n",
              "    60% {\n",
              "      border-color: transparent;\n",
              "      border-right-color: var(--fill-color);\n",
              "    }\n",
              "    80% {\n",
              "      border-color: transparent;\n",
              "      border-right-color: var(--fill-color);\n",
              "      border-bottom-color: var(--fill-color);\n",
              "    }\n",
              "    90% {\n",
              "      border-color: transparent;\n",
              "      border-bottom-color: var(--fill-color);\n",
              "    }\n",
              "  }\n",
              "</style>\n",
              "\n",
              "  <script>\n",
              "    async function quickchart(key) {\n",
              "      const quickchartButtonEl =\n",
              "        document.querySelector('#' + key + ' button');\n",
              "      quickchartButtonEl.disabled = true;  // To prevent multiple clicks.\n",
              "      quickchartButtonEl.classList.add('colab-df-spinner');\n",
              "      try {\n",
              "        const charts = await google.colab.kernel.invokeFunction(\n",
              "            'suggestCharts', [key], {});\n",
              "      } catch (error) {\n",
              "        console.error('Error during call to suggestCharts:', error);\n",
              "      }\n",
              "      quickchartButtonEl.classList.remove('colab-df-spinner');\n",
              "      quickchartButtonEl.classList.add('colab-df-quickchart-complete');\n",
              "    }\n",
              "    (() => {\n",
              "      let quickchartButtonEl =\n",
              "        document.querySelector('#df-a2176558-3c4f-4449-b542-aebada559880 button');\n",
              "      quickchartButtonEl.style.display =\n",
              "        google.colab.kernel.accessAllowed ? 'block' : 'none';\n",
              "    })();\n",
              "  </script>\n",
              "</div>\n",
              "    </div>\n",
              "  </div>\n"
            ],
            "application/vnd.google.colaboratory.intrinsic+json": {
              "type": "dataframe",
              "variable_name": "df",
              "summary": "{\n  \"name\": \"df\",\n  \"rows\": 965,\n  \"fields\": [\n    {\n      \"column\": \"Category\",\n      \"properties\": {\n        \"dtype\": \"category\",\n        \"num_unique_values\": 32,\n        \"samples\": [\n          \"construction\",\n          \"python developer\",\n          \"testing\"\n        ],\n        \"semantic_type\": \"\",\n        \"description\": \"\"\n      }\n    },\n    {\n      \"column\": \"Resume\",\n      \"properties\": {\n        \"dtype\": \"string\",\n        \"num_unique_values\": 965,\n        \"samples\": [\n          \"engineering aide professional summary resourceful facilities tech with solid background in preventative maintenance repair talented facilities tech with more than 3 years of experience developing and executing maintenance programs excellent troubleshooting skills detail oriented professional with strong technical skills and the ability to learn concepts quickly highlights q mechanically inclined q diagnosis and repair q skilled concrete finisher q preventative maintenance q dexterous with hand tools q suspension and alignment q strong attention to detail q brake systems expertise q troubleshooting q brake repair and replacement q responsible and reliable q strategic thinker q excellent problem solver q self starter q decisive q critical thinker accomplishments machine troubleshooting q performed effective troubleshooting of machines systems number per week month year repaired broad range of machines or systems including types of machines or systems using tools problem diagnosis q used operational knowledge of systems parts and components to solve problems that arose during assembly documentation q reported and documented unsafe conditions equipment and or injury training q responsible for providing vision and guidance to a group of 20 construction employees training them on sufficient project plans and procedures equipment maintenance q performed routine maintenance on equipment on as needed basis inventory control q restocked and organized items as necessary and as directed machine repair q detected machine malfunctions and problem solved accordingly q repaired maintained and replaced parts on dies skills work history engineering aide 12 2006 to 04 2009 company name city state aided other departments in the development of plans and cost estimates on road parking lot and drainage projects computed load and grade requirements and material stress factors to determine design specifications wrote daily detailed reports logging work progress for quality assurance purposes completed all repairs and maintenance work to company standards planned work and determined appropriate tools and equipment took care of facility equipment grounds roads and fences service technician 08 2004 to 12 2006 company name city state followed checklists to verify that all important parts were examined serviced air conditioning heating engine cooling and electrical systems rebuilt faulty assemblies including steering systems and linkages examined vehicles to determine the extent of damage or malfunctions specialized in servicing brakes and fuel systems communicated with customers regarding vehicle issues and potential repairs repaired and replaced belts hoses and steering systems executed all phases of power system tear down and repair operated pneumatic tools and air compressors removed and replaced tires shocks struts and brakes contributed to repeat and referral business by using strong customer service and problem solving skills repaired and replaced radiators and water pumps organized work records and filed reports transported customers to and from the shop for the customer service program concrete finisher 05 1997 to 07 2004 company name city state shaped and built roads using large construction equipment operated a bulldozer to properly deploy waste products at compactors documented daily equipment inspections and submitted daily inspection forms to supervisor performed daily maintenance to the machine cab and wheels operated equipment safely and efficiently at all times serviced and maintained vehicles and heavy equipment correctly used aggregate sizes and classifications for all road construction listened to warning alarms and responded accordingly loaded proper materials while abiding by all safety and legal standards obtained proper signatures as required monitored various gauges during vehicle operation and investigated and repaired any abnormalities operated and maintained a forklift truck in a safe and efficient manner retained shop order segregation during yard movement set and read grade stakes to construct roads parking lots building pads landfills and sediment ponds executed daily pre trip and post trip inspections and documentation in compliance with dot guidelines and company policies completed all repairs and maintenance work to company standards counted and verified orders picked to ensure accuracy planned work and determined appropriate tools and equipment 05 1989 to 06 1996 company name followed checklists to verify that all important parts were examined organized work records and filed reports education diploma general studies 1 1986 maury high school state general studies industrial maintenance industrial engineering production engineering mechanical engineering and engineering welding fabrication industrial and tool manufacturing technology and process technology lamar institute of technology city state gpa gpa 4 0 industrial maintenance gpa 4 0 industrial engineering production engineering mechanical engineering and engineering welding fabrication industrial and tool manufacturing technology and process technology skills customer service customer service documentation forklift forms legal materials policies problem solving skills progress quality assurance read repairs safety struts supervisor tear\",\n          \"a la carte chef chef de cuisine summary a professional cook with 10 years of combined on the job work training and experience with a background in managerial and non managerial positions from high quality restaurants and organizations with a firm foundation built on the respect and execution of proper cooking techniques and the importance of always being able to learn and grow as a professional highlights focused and disciplined high volume production capability focus on portion and cost control inventory management familiarity sous vide technique effective communicator organizational skils task oriented experience company name city state a la carte chef chef de cuisine 10 2015 to current supervise 10 cooks across two kitchens encourage and motivate staff members to uphold quality standards in keeping with club traditions and expectations planning and preparation of three seasonal menus creating nightly specials revolving around seasonality using as many local ingredients as possible contemporary and trendy cuisine with respect to traditions and favourites of the club and its members effectively expedites a la carte service management of protein perishable and dry goods inventory with a focus on utilisation and cost effectiveness 100 200 covers nightly company name city state sous chef 04 2015 to current effectively managing a kitchen team of 12 cooks and stewards over two kitchens on property tasked with the preparation and execution of special event menus planning and executing a daily changing dinner menu strong focus on locality of ingredients responsible for an extensive running inventory of fresh proteins training new cooks and team members to understand quality standards and proper cooking techniques 75 175 covers nightly company name city state lead expeditor 02 2014 to 02 2015 the masters golf tournament terrace kitchen high pressure environment time management stress management effective planning and organisational skills 800 1100 covers in 3 hours company name 12 2009 to 05 2014 merion cricket club haverford pa junior sous chef viking culinary center haverford pa chef instructor cloud catering and events nyc ny cook the black rat winchester england stage craigie on main cambridge ma stage four seasons resort aviara carlsbad ca intern education 2009 culinary institute of america city state bachelors of professional studies culinary arts and restaurant management assisted with numerous school sponsored catering events for up to 450 people member of the inter collegiate soccer team four years serving as captain one year kitchen assistant for saturday morning 15 person adult education classes residence assistant 2 1 2 years skills interpersonal skills cooking critical thinking dependability focused human relations inventory listening skills time and personnel management skills stress management supervision teaching leadership enthusiasm passion for cooking problem solving\",\n          \"staff accountant summary highly analytical and detail oriented professional possessing extensive financial statement background in quality assurance compliance auditing customer service and regulatory requirements thorough knowledge of financial reporting cash and accrual basis accounting fund basis reporting gaap and other accounting standards adapt quickly when new software and systems are installed proficient with quickbooks mas adp condo manager adobe and all microsoft applications software excel in problem solving and strategic planning skills highlights dba quick books mas sage software microsoft excel adp drive microsoft access condo manager microsoft word education bachelor of science accounting may 2010 university of north carolina city state accounting bachelor of science business administration finance may 2010 business administration finance experience staff accountant january 2014 to october 2014 company name city state performed all month end functions to produce financial statements the functions include reconciliation of the operating and payroll bank accounts recorded sales for the month recorded payroll journals accrued payroll recorded sales tax submitted sales tax to nc department of revenue recorded inventory adjustments and recorded balance sheet month end entries entered all payables and receivables for the 7 franchise locations worked with vendors to resolve any situations that arose reviewed and maintained that all needed franchise document were on file and up to date worked directly with controller on year end review assembled all requested financial and legal documentation that was put into presentable formats maintained weekly spreadsheet on collected franchise royalties and advertising fees this spreadsheet is used for the year end audit managed a company that owned and rented out 12 commercial properties of a shopping center to approved businesses responsible for negotiating rent rates for new or renewing tenants writing leases collecting rent cash flow management payables and resolving any tenant complaints or inquires managed a company that was a small farming entity responsible for maintaining cash flow all payables and setting up credit accounts with vendors entered all payroll journals and maintained cash flow for company that employed labor to work at farming entity filed north carolina annual report for all companies managed by cary keisler inc and verified that all were current on their filings staff accountant march 2013 to january 2014 company name city state collect daily deposits for newly entered sos as well the balance for any so that has completed once a job status report has been ran interact directly with customers on outstanding deposits and balances due responsible for all po and non po payable entry coding for all companies work directly with vendors to resolve and discrepancy with payables pull weekly unpaid bills reports that are used for cash flow projections complete weekly check run for all companies reconcile monthly purchasing american express credit card that ranges from 60 000 00 100 000 00 helped facilitate roll of purchasing manager during turnover period from september 2013 december 2013 responsible for ordering needed materials supplies for factory production floor worked directly with vp of finance and members of the production floor in collection of data to develop unit valuation this information combined with continued data collection is being used for future bills of materials and job costing staff accountant april 2012 to march 2013 company name state lead reconciliation of balance sheet to ensure no discrepancy with general ledger research and resolve any transaction deviating from ordinary operations run project cost reconciliation at month end to ensure all billable expenses are posted to a project this ensures all enries are posted to the correct project and general ledger account this provides billing information as well as the correct bottom line for each project design excel spreadsheet for prepaid employee benefits for eom reconciliation purposes reconcile american express accounts for sdi and battleware 10 accounts responsible for all entry and custodial book keeping of sdi s fixed assets for depreciation purposes daily reconciliation sdi s operating interest sweep and line of credit accounts for most accurate cash projections responsible for coding and entry of all payables items for sdi and battleware prepare monthly sales and use tax financial management partner july 2010 to august 2011 company name city state identified reported tracked and resolved subsidiary ledger discrepancies in all phases of the revenues and receivables accounting processes provide an end to end financial statement assurance and accurate presentation by aiding and completing tasks in all areas of operations performing all monthly bank reconciliations applying all required financial regulations in preparing and delivery of financial statements provided support to clients and other employees via email on implementations software support and financial reporting issues in all aspects of day to day operations trained new accounting department employees with functionality demonstration to assist in proficient accounting support and software transitioning i e quickbooks peachtree and excel transitioning able to perform duties of all departments of accounting including accounts payable accounts receivable legal coordination and transactional audit and review coordinate lien and foreclosure preparations research ownership status and balance histories in order to accurately file legal claims on behalf of our cliental constant analysis of all clients interim financial reports and comparative statements to verify the validity and monitor for inconsistency prepare variance reports and explanations to quickly summarize areas of increased variances in expenses assist other areas of management in fund accounting budget preparations and presentation at annual and monthly board meetings coordinate and prepare materials for audits review and tax returns assist in annual budget preparations prepare billings for all cycles perform all adjusting month end transactions and required g l posting entries required to correct errors or balance discrepancies interests alpha sigma phi officer and chair positions january 2006 may 2010 vice president social chair greek week delegate livestrong foundation bike a thon skills accounting accounts payable accounts receivable adp advertising ar balance sheet balance bank reconciliations benefits billing billings book keeping budget cash flow projections cash flow controller credit clients data collection delivery documentation email finance financial financial reporting financial statements fixed assets general ledger inventory job costing ledger legal materials meetings microsoft access microsoft excel excel microsoft word negotiating dba payables payroll peachtree processes coding purchasing express quick books quickbooks research sage sales spreadsheet tax software support valuation year end additional information activities alpha sigma phi officer and chair positions january 2006 may 2010 vice president social chair greek week delegate livestrong foundation bike a thon\"\n        ],\n        \"semantic_type\": \"\",\n        \"description\": \"\"\n      }\n    }\n  ]\n}"
            }
          },
          "metadata": {},
          "execution_count": 22
        }
      ],
      "source": [
        "df['Category'] = df['Category'].str.lower().str.replace('_', ' ')\n",
        "df.drop_duplicates(inplace=True)\n",
        "df"
      ]
    },
    {
      "cell_type": "code",
      "execution_count": null,
      "metadata": {
        "colab": {
          "base_uri": "https://localhost:8080/",
          "height": 651
        },
        "id": "DId8roQ6syLl",
        "outputId": "77c82e90-28cf-410a-d6da-887663e92293"
      },
      "outputs": [
        {
          "output_type": "execute_result",
          "data": {
            "text/plain": [
              "<Axes: xlabel='Category', ylabel='count'>"
            ]
          },
          "metadata": {},
          "execution_count": 23
        },
        {
          "output_type": "display_data",
          "data": {
            "text/plain": [
              "<Figure size 1500x500 with 1 Axes>"
            ],
            "image/png": "[encoded data removed]"
          },
          "metadata": {}
        }
      ],
      "source": [
        "plt.figure(figsize=(15,5))\n",
        "plt.xticks(rotation=90)\n",
        "sns.countplot(x=\"Category\", data=df)"
      ]
    },
    {
      "cell_type": "code",
      "execution_count": null,
      "metadata": {
        "colab": {
          "base_uri": "https://localhost:8080/"
        },
        "id": "7fVC-oU9utXL",
        "outputId": "c653bb2c-59d9-4fe3-9a70-de17c62d90a8"
      },
      "outputs": [
        {
          "output_type": "execute_result",
          "data": {
            "text/plain": [
              "Category\n",
              "engineer                  257\n",
              "arts                      236\n",
              "banking                   233\n",
              "hr and sales               51\n",
              "project manager            37\n",
              "software developer         32\n",
              "java developer             30\n",
              "python developer           26\n",
              "database administrator     22\n",
              "web developer              18\n",
              "systems administrator      18\n",
              "security analyst            5\n",
              "Name: count, dtype: int64"
            ]
          },
          "metadata": {},
          "execution_count": 24
        }
      ],
      "source": [
        "df['Category'] = df['Category'].replace({'automation testing': 'testing'})\n",
        "df['Category'] = df['Category'].replace({'database': 'database administrator'})\n",
        "df['Category'] = df['Category'].replace({'construction': 'civil engineer'})\n",
        "df['Category'] = df['Category'].replace({'bpo': 'business analyst'})\n",
        "df['Category'] = df['Category'].replace({'data science': 'python developer'})\n",
        "df['Category'] = df['Category'].replace({'operations manager': 'devops engineer'})\n",
        "df['Category'] = df['Category'].replace({'devops engineer' : 'systems administrator'})\n",
        "df['Category'] = df['Category'].replace({'accountant': 'banking'})\n",
        "df['Category'] = df['Category'].replace({'dotnet developer': 'web developer'})\n",
        "df['Category'] = df['Category'].replace({'web designing': 'web developer'})\n",
        "df['Category'] = df['Category'].replace({'electrical engineering': 'engineer'})\n",
        "df['Category'] = df['Category'].replace({'mechanical engineer': 'engineer'})\n",
        "df['Category'] = df['Category'].replace({'civil engineer': 'engineer'})\n",
        "df['Category'] = df['Category'].replace({'engineering': 'engineer'})\n",
        "df['Category'] = df['Category'].replace({'etl developer': 'java developer'})\n",
        "df['Category'] = df['Category'].replace({'hadoop': 'java developer'})\n",
        "df['Category'] = df['Category'].replace({'health and fitness': 'healthcare'})\n",
        "df['Category'] = df['Category'].replace({'network security engineer': 'security analyst'})\n",
        "df['Category'] = df['Category'].replace({'information technology': 'software developer'})\n",
        "df['Category'] = df['Category'].replace({'sap developer': 'software developer'})\n",
        "df['Category'] = df['Category'].replace({'blockchain': 'software developer'})\n",
        "df['Category'] = df['Category'].replace({'pmo': 'project manager'})\n",
        "df['Category'] = df['Category'].replace({'business analyst': 'project manager'})\n",
        "df['Category'] = df['Category'].replace({'digital media': 'arts'})\n",
        "df['Category'] = df['Category'].replace({'chef': 'arts'})\n",
        "df['Category'] = df['Category'].replace({'advocate': 'arts'})\n",
        "df['Category'] = df['Category'].replace({'teacher': 'arts'})\n",
        "df['Category'] = df['Category'].replace({'healthcare': 'arts'})\n",
        "df['Category'] = df['Category'].replace({'hr': 'hr and sales'})\n",
        "df['Category'] = df['Category'].replace({'sales': 'hr and sales'})\n",
        "df['Category'] = df['Category'].replace({'testing': 'software developer'})\n",
        "df['Category'].value_counts()"
      ]
    },
    {
      "cell_type": "code",
      "source": [
        "category_counts = df['Category'].value_counts()\n",
        "\n",
        "# Identify categories with counts less than 100\n",
        "categories_to_drop = category_counts[category_counts < 100].index\n",
        "\n",
        "# Drop rows with categories that have counts less than 100\n",
        "df = df[~df['Category'].isin(categories_to_drop)]\n",
        "df['Category'].value_counts()"
      ],
      "metadata": {
        "colab": {
          "base_uri": "https://localhost:8080/"
        },
        "id": "F7mt_PwHZOU8",
        "outputId": "22e75d39-5d73-4f8d-d36a-7f88aa89d0cd"
      },
      "execution_count": null,
      "outputs": [
        {
          "output_type": "execute_result",
          "data": {
            "text/plain": [
              "Category\n",
              "engineer    257\n",
              "arts        236\n",
              "banking     233\n",
              "Name: count, dtype: int64"
            ]
          },
          "metadata": {},
          "execution_count": 25
        }
      ]
    },
    {
      "cell_type": "code",
      "execution_count": null,
      "metadata": {
        "colab": {
          "base_uri": "https://localhost:8080/",
          "height": 530
        },
        "id": "RkYyTKrd9cFY",
        "outputId": "f0074d6c-bf24-44e1-a767-b1e4cb47c2e6"
      },
      "outputs": [
        {
          "output_type": "execute_result",
          "data": {
            "text/plain": [
              "<Axes: xlabel='Category', ylabel='count'>"
            ]
          },
          "metadata": {},
          "execution_count": 26
        },
        {
          "output_type": "display_data",
          "data": {
            "text/plain": [
              "<Figure size 1000x500 with 1 Axes>"
            ],
            "image/png": "[encoded data removed]"
          },
          "metadata": {}
        }
      ],
      "source": [
        "plt.figure(figsize=(10,5))\n",
        "plt.xticks(rotation=90)\n",
        "sns.countplot(x=\"Category\", data=df)"
      ]
    },
    {
      "cell_type": "code",
      "execution_count": null,
      "metadata": {
        "colab": {
          "base_uri": "https://localhost:8080/",
          "height": 653
        },
        "id": "k1txrOwY5our",
        "outputId": "e7d32357-4e08-4270-c30d-27daadb1ca0c"
      },
      "outputs": [
        {
          "output_type": "display_data",
          "data": {
            "text/plain": [
              "<Figure size 800x800 with 1 Axes>"
            ],
            "image/png": "[encoded data removed]"
          },
          "metadata": {}
        }
      ],
      "source": [
        "counts = df['Category'].value_counts()\n",
        "Category = df['Category'].unique()\n",
        "plt.figure(figsize=(8,8))\n",
        "plt.pie(counts,labels=Category,autopct='%1.1f%%')\n",
        "plt.show()"
      ]
    },
    {
      "cell_type": "markdown",
      "metadata": {
        "id": "C7Y-Vxjs6HPX"
      },
      "source": [
        "# **5. Cleaning resume data**"
      ]
    },
    {
      "cell_type": "code",
      "execution_count": null,
      "metadata": {
        "id": "rKAQhDoP6KWp"
      },
      "outputs": [],
      "source": [
        "import re\n",
        "def cleanResume(txt):\n",
        "    cleanText = re.sub('http\\S+\\s', ' ', txt) #links\n",
        "    cleanText = re.sub('#\\S+\\s', ' ', cleanText) #Hashtags\n",
        "    cleanText = re.sub('@\\S+', '  ', cleanText) #Handles\n",
        "    cleanText = re.sub('[%s]' % re.escape(\"\"\"!\"#$%&'()*+,-./:;<=>?@[\\]^_`{|}~\"\"\"), ' ', cleanText) #Punctuations\n",
        "    cleanText = re.sub(r'[^\\x00-\\x7f]', ' ', cleanText)  #Special Characters\n",
        "    cleanText = re.sub('\\s+', ' ', cleanText) #Extra Whitespaces\n",
        "    return cleanText"
      ]
    },
    {
      "cell_type": "code",
      "execution_count": null,
      "metadata": {
        "colab": {
          "base_uri": "https://localhost:8080/"
        },
        "id": "QGIS1RKA8Xhg",
        "outputId": "674a239e-0b7d-4d28-f847-9118d7de101d"
      },
      "outputs": [
        {
          "output_type": "stream",
          "name": "stderr",
          "text": [
            "<ipython-input-29-b11d029cf4a5>:1: SettingWithCopyWarning: \n",
            "A value is trying to be set on a copy of a slice from a DataFrame.\n",
            "Try using .loc[row_indexer,col_indexer] = value instead\n",
            "\n",
            "See the caveats in the documentation: https://pandas.pydata.org/pandas-docs/stable/user_guide/indexing.html#returning-a-view-versus-a-copy\n",
            "  df['Resume'] = df['Resume'].apply(lambda x: cleanResume(x))\n"
          ]
        },
        {
          "output_type": "execute_result",
          "data": {
            "text/plain": [
              "84      TECHNICAL QUALIFICATIONS Windows Ms OfficeEduc...\n",
              "85      Education Details B Com LL B University of Cla...\n",
              "86      Education Details LLB Dibrugarh University Adv...\n",
              "87      Education Details November 2016 to January 201...\n",
              "88      SKILLS Knows English as native speaker IELTS O...\n",
              "                              ...                        \n",
              "1960    engineering technician summary work as enginee...\n",
              "1961    mechanical engineering tutor summary driven an...\n",
              "1962    engineering technician field service professio...\n",
              "1963    engineering intern personal summary age 22 yea...\n",
              "1964    engineering assistant summary hard working rec...\n",
              "Name: Resume, Length: 726, dtype: object"
            ]
          },
          "metadata": {},
          "execution_count": 29
        }
      ],
      "source": [
        "df['Resume'] = df['Resume'].apply(lambda x: cleanResume(x))\n",
        "df['Resume']"
      ]
    },
    {
      "cell_type": "markdown",
      "metadata": {
        "id": "BosxNrSt-MHR"
      },
      "source": [
        "# **6. Label Encoding and Tf-Idf Vectorization**"
      ]
    },
    {
      "cell_type": "code",
      "execution_count": null,
      "metadata": {
        "colab": {
          "base_uri": "https://localhost:8080/"
        },
        "id": "-hVsMWCo-lWJ",
        "outputId": "dfce7114-00ec-4c7e-b35a-628c3864dea9"
      },
      "outputs": [
        {
          "output_type": "execute_result",
          "data": {
            "text/plain": [
              "array(['arts', 'engineer', 'banking'], dtype=object)"
            ]
          },
          "metadata": {},
          "execution_count": 30
        }
      ],
      "source": [
        "df['Category'].unique()"
      ]
    },
    {
      "cell_type": "code",
      "execution_count": null,
      "metadata": {
        "id": "8HJwLPQC-Ufe",
        "colab": {
          "base_uri": "https://localhost:8080/"
        },
        "outputId": "d07da01c-3770-46e5-89cc-a118a7a70069"
      },
      "outputs": [
        {
          "output_type": "stream",
          "name": "stderr",
          "text": [
            "<ipython-input-31-176cc21adfe6>:4: SettingWithCopyWarning: \n",
            "A value is trying to be set on a copy of a slice from a DataFrame.\n",
            "Try using .loc[row_indexer,col_indexer] = value instead\n",
            "\n",
            "See the caveats in the documentation: https://pandas.pydata.org/pandas-docs/stable/user_guide/indexing.html#returning-a-view-versus-a-copy\n",
            "  df['Category'] = le.transform(df['Category'])\n"
          ]
        }
      ],
      "source": [
        "from sklearn.preprocessing import LabelEncoder\n",
        "le = LabelEncoder()\n",
        "le.fit(df['Category'])\n",
        "df['Category'] = le.transform(df['Category'])"
      ]
    },
    {
      "cell_type": "code",
      "execution_count": null,
      "metadata": {
        "colab": {
          "base_uri": "https://localhost:8080/"
        },
        "id": "xd2kxAFm-bNa",
        "outputId": "14917fa1-ddd7-4e1f-8eae-25aa0291c2eb"
      },
      "outputs": [
        {
          "output_type": "execute_result",
          "data": {
            "text/plain": [
              "array([0, 2, 1])"
            ]
          },
          "metadata": {},
          "execution_count": 32
        }
      ],
      "source": [
        "df['Category'].unique()"
      ]
    },
    {
      "cell_type": "code",
      "execution_count": null,
      "metadata": {
        "id": "SNzh3k1z-4rn"
      },
      "outputs": [],
      "source": [
        "from sklearn.feature_extraction.text import TfidfVectorizer\n",
        "tfidf = TfidfVectorizer(stop_words='english')\n",
        "tfidf.fit(df['Resume'])\n",
        "requiredText  = tfidf.transform(df['Resume'])"
      ]
    },
    {
      "cell_type": "markdown",
      "metadata": {
        "id": "36qBiI69_D4T"
      },
      "source": [
        "# **7. Training the model**"
      ]
    },
    {
      "cell_type": "code",
      "execution_count": null,
      "metadata": {
        "id": "cVMsalvI_Q6k"
      },
      "outputs": [],
      "source": [
        "from sklearn.model_selection import train_test_split\n",
        "X_train, X_test, y_train, y_test = train_test_split(requiredText, df['Category'], test_size=0.2)"
      ]
    },
    {
      "cell_type": "code",
      "execution_count": null,
      "metadata": {
        "colab": {
          "base_uri": "https://localhost:8080/"
        },
        "id": "-uQX6ziQ_xu5",
        "outputId": "77428f88-a2ad-4e39-bd2a-c35ee6f5abe1"
      },
      "outputs": [
        {
          "output_type": "execute_result",
          "data": {
            "text/plain": [
              "(580, 21402)"
            ]
          },
          "metadata": {},
          "execution_count": 35
        }
      ],
      "source": [
        "X_train.shape"
      ]
    },
    {
      "cell_type": "code",
      "execution_count": null,
      "metadata": {
        "colab": {
          "base_uri": "https://localhost:8080/"
        },
        "id": "fQtyag7Z_0-J",
        "outputId": "733a5070-d177-44d8-bf5f-083b2cfa85f8"
      },
      "outputs": [
        {
          "output_type": "execute_result",
          "data": {
            "text/plain": [
              "(146, 21402)"
            ]
          },
          "metadata": {},
          "execution_count": 36
        }
      ],
      "source": [
        "X_test.shape"
      ]
    },
    {
      "cell_type": "code",
      "source": [
        "from sklearn.multiclass import OneVsRestClassifier #Multi-Category Classifier\n",
        "from sklearn.metrics import accuracy_score #Prediction Score\n",
        "from sklearn.metrics import classification_report #Prediction Score\n",
        "from sklearn.neighbors import KNeighborsClassifier  # KNN Classifier\n",
        "\n",
        "# Define and train the Random Forest classifier\n",
        "clf = OneVsRestClassifier(KNeighborsClassifier())  # Using KNN Classifier instead of Random Forest Classifier\n",
        "\n",
        "clf.fit(X_train,y_train)\n",
        "y_pred = clf.predict(X_test)\n",
        "print(accuracy_score(y_test,y_pred))\n",
        "print(classification_report(y_test,y_pred))"
      ],
      "metadata": {
        "colab": {
          "base_uri": "https://localhost:8080/"
        },
        "id": "vo0Iu3XW9Izx",
        "outputId": "d880ba98-7f1c-4a0d-c790-75e2bb829f34"
      },
      "execution_count": null,
      "outputs": [
        {
          "output_type": "stream",
          "name": "stdout",
          "text": [
            "0.8698630136986302\n",
            "              precision    recall  f1-score   support\n",
            "\n",
            "           0       0.90      0.79      0.84        48\n",
            "           1       0.86      0.86      0.86        50\n",
            "           2       0.85      0.96      0.90        48\n",
            "\n",
            "    accuracy                           0.87       146\n",
            "   macro avg       0.87      0.87      0.87       146\n",
            "weighted avg       0.87      0.87      0.87       146\n",
            "\n"
          ]
        }
      ]
    },
    {
      "cell_type": "code",
      "source": [
        "from sklearn.metrics import confusion_matrix\n",
        "\n",
        "cm = confusion_matrix(y_test,y_pred)\n",
        "\n",
        "sns.heatmap(cm, annot=True, fmt=\"d\", cmap=\"Blues\")\n",
        "plt.xlabel(\"Predicted label\")\n",
        "plt.ylabel(\"True label\")\n",
        "plt.title(\"Confusion Matrix using KNN\")\n",
        "plt.show()"
      ],
      "metadata": {
        "colab": {
          "base_uri": "https://localhost:8080/",
          "height": 472
        },
        "id": "UYSWdOnc9ENT",
        "outputId": "9847002a-996c-4ea3-8457-2ba6f09f3846"
      },
      "execution_count": null,
      "outputs": [
        {
          "output_type": "display_data",
          "data": {
            "text/plain": [
              "<Figure size 640x480 with 2 Axes>"
            ],
            "image/png": "[encoded data removed]"
          },
          "metadata": {}
        }
      ]
    },
    {
      "cell_type": "code",
      "execution_count": null,
      "metadata": {
        "colab": {
          "base_uri": "https://localhost:8080/"
        },
        "id": "W8W0lcMF_89_",
        "outputId": "376361cd-8d4a-456d-b1a7-0ae6b37993a4"
      },
      "outputs": [
        {
          "output_type": "stream",
          "name": "stdout",
          "text": [
            "0.9383561643835616\n",
            "              precision    recall  f1-score   support\n",
            "\n",
            "           0       0.96      0.96      0.96        48\n",
            "           1       0.96      0.88      0.92        50\n",
            "           2       0.90      0.98      0.94        48\n",
            "\n",
            "    accuracy                           0.94       146\n",
            "   macro avg       0.94      0.94      0.94       146\n",
            "weighted avg       0.94      0.94      0.94       146\n",
            "\n"
          ]
        }
      ],
      "source": [
        "from sklearn.multiclass import OneVsRestClassifier #Multi-Category Classifier\n",
        "from sklearn.metrics import accuracy_score #Prediction Score\n",
        "from sklearn.metrics import classification_report #Prediction Score\n",
        "from sklearn.ensemble import RandomForestClassifier  # Random Forest Classifier\n",
        "\n",
        "# Define and train the Random Forest classifier\n",
        "clf = OneVsRestClassifier(RandomForestClassifier())  # Using RandomForestClassifier instead of KNeighborsClassifier\n",
        "\n",
        "clf.fit(X_train,y_train)\n",
        "y_pred = clf.predict(X_test)\n",
        "print(accuracy_score(y_test,y_pred))\n",
        "print(classification_report(y_test,y_pred))"
      ]
    },
    {
      "cell_type": "code",
      "execution_count": null,
      "metadata": {
        "colab": {
          "base_uri": "https://localhost:8080/",
          "height": 472
        },
        "id": "59hiIZ9twbrX",
        "outputId": "e34b67dd-d319-44fb-a05b-e974630162ca"
      },
      "outputs": [
        {
          "output_type": "display_data",
          "data": {
            "text/plain": [
              "<Figure size 640x480 with 2 Axes>"
            ],
            "image/png": "[encoded data removed]"
          },
          "metadata": {}
        }
      ],
      "source": [
        "from sklearn.metrics import confusion_matrix\n",
        "\n",
        "cm = confusion_matrix(y_test,y_pred)\n",
        "\n",
        "sns.heatmap(cm, annot=True, fmt=\"d\", cmap=\"Blues\")\n",
        "plt.xlabel(\"Predicted label\")\n",
        "plt.ylabel(\"True label\")\n",
        "plt.title(\"Confusion Matrix using Random Forest\")\n",
        "plt.show()\n"
      ]
    },
    {
      "cell_type": "markdown",
      "metadata": {
        "id": "OAjAR7IwMPcf"
      },
      "source": [
        "#**8. Resume Parser**\n",
        "\n"
      ]
    },
    {
      "cell_type": "code",
      "execution_count": null,
      "metadata": {
        "colab": {
          "base_uri": "https://localhost:8080/"
        },
        "id": "oZzCOoZfMipQ",
        "outputId": "ae4bab9e-2475-4d1f-ffab-985b1d2d3961"
      },
      "outputs": [
        {
          "output_type": "stream",
          "name": "stdout",
          "text": [
            "Collecting tika\n",
            "  Downloading tika-2.6.0.tar.gz (27 kB)\n",
            "  Preparing metadata (setup.py) ... \u001b[?25l\u001b[?25hdone\n",
            "Requirement already satisfied: setuptools in /usr/local/lib/python3.10/dist-packages (from tika) (67.7.2)\n",
            "Requirement already satisfied: requests in /usr/local/lib/python3.10/dist-packages (from tika) (2.31.0)\n",
            "Requirement already satisfied: charset-normalizer<4,>=2 in /usr/local/lib/python3.10/dist-packages (from requests->tika) (3.3.2)\n",
            "Requirement already satisfied: idna<4,>=2.5 in /usr/local/lib/python3.10/dist-packages (from requests->tika) (3.7)\n",
            "Requirement already satisfied: urllib3<3,>=1.21.1 in /usr/local/lib/python3.10/dist-packages (from requests->tika) (2.0.7)\n",
            "Requirement already satisfied: certifi>=2017.4.17 in /usr/local/lib/python3.10/dist-packages (from requests->tika) (2024.2.2)\n",
            "Building wheels for collected packages: tika\n",
            "  Building wheel for tika (setup.py) ... \u001b[?25l\u001b[?25hdone\n",
            "  Created wheel for tika: filename=tika-2.6.0-py3-none-any.whl size=32621 sha256=c4f1c2cc4a9f246363887aeb4d62526124aeb49de821a04cc60c304b4d5f40cb\n",
            "  Stored in directory: /root/.cache/pip/wheels/5f/71/c7/b757709531121b1700cffda5b6b0d4aad095fb507ec84316d0\n",
            "Successfully built tika\n",
            "Installing collected packages: tika\n",
            "Successfully installed tika-2.6.0\n"
          ]
        }
      ],
      "source": [
        "!pip install tika"
      ]
    },
    {
      "cell_type": "code",
      "execution_count": null,
      "metadata": {
        "id": "dbhz3da4Milz"
      },
      "outputs": [],
      "source": [
        "from tika import parser\n",
        "from functools import reduce\n",
        "import pandas as pd"
      ]
    },
    {
      "cell_type": "code",
      "execution_count": null,
      "metadata": {
        "id": "2NBjp2UyMijY"
      },
      "outputs": [],
      "source": [
        "file = r'Vinay_Resume.pdf'\n",
        "file_data = parser.from_file(file)"
      ]
    },
    {
      "cell_type": "code",
      "execution_count": null,
      "metadata": {
        "colab": {
          "base_uri": "https://localhost:8080/"
        },
        "id": "a7LJNcXSMigy",
        "outputId": "84f15f4f-65bb-4952-e4e8-83cedbf489fc"
      },
      "outputs": [
        {
          "output_type": "stream",
          "name": "stdout",
          "text": [
            "\n",
            "\n",
            "\n",
            "\n",
            "\n",
            "\n",
            "\n",
            "\n",
            "\n",
            "\n",
            "\n",
            "\n",
            "\n",
            "\n",
            "\n",
            "\n",
            "\n",
            "\n",
            "\n",
            "\n",
            "\n",
            "\n",
            "\n",
            "\n",
            "\n",
            "\n",
            "\n",
            "\n",
            "\n",
            "\n",
            "\n",
            "\n",
            "\n",
            "\n",
            "\n",
            "\n",
            "\n",
            "Vinay Kumar\n",
            "Surat, Gujarat\n",
            "\n",
            "� 9340332405 # vk96154.20@gmail.com ï Vinay Kumar § github.com/kumar20vinay\n",
            "\n",
            "Education\n",
            "\n",
            "Indian Institute of Information Technology Surat, Gujarat 2021 – 2025\n",
            "\n",
            "Bachelor of Technology in Computer Science and Engineering CGPA 8.23/10 Till 4th Sem\n",
            "\n",
            "Experience\n",
            "\n",
            "GDSC IIIT Surat July 2022 – July 2023\n",
            "\n",
            "Junior Developer Surat, Gujarat\n",
            "\n",
            "• Collaborated with over 30 other Junior Developer’s on various projects.\n",
            "\n",
            "• Mentored more than 50 students during the Hackathons.\n",
            "\n",
            "Project Work\n",
            "\n",
            "ViseHousing | Machine Learning September 2023\n",
            "\n",
            "• Predicting house prices using Linear Regression and Gradient Boosting Regressor.\n",
            "\n",
            "• implemented using python libraries such as matplotlib, pandas and numpy.\n",
            "\n",
            "TalkX | Javascript, React.js, Node.js, MongoDB, Socket.io July 2023\n",
            "\n",
            "• Developed a sophisticated web app for chatting from scratch using the MERN stack (MongoDB, Express.js, React,\n",
            "Node.js).\n",
            "\n",
            "• Enabled real-time communication between users using socket.io for instant responses.\n",
            "\n",
            "• Implemented secure user authentication and authorization mechanisms to protect user data and chat history.\n",
            "\n",
            "• Secure private communication among groups.\n",
            "\n",
            "InnSight | Javascript, React.js, Node.js, MongoDB June 2023\n",
            "\n",
            "• Online Hotel booking web-portal offering a seamless experience for both hosts and guests\n",
            "\n",
            "• Utilized the MERN stack (MongoDB, Express.js, React, Node.js) for development and Axios for API requests.\n",
            "\n",
            "• Implemented a robust user authentication system for secure registration and login.\n",
            "\n",
            "• Prioritized security by implementing measures such as input validation, encryption, and protection against common web\n",
            "vulnerabilities.\n",
            "\n",
            "Technical Skills\n",
            "\n",
            "Languages: Python, C, JavaScript, SQL, C++\n",
            "Web Developement: HTML/CSS , Node.js, React.js, Express.js\n",
            "Databases: MongoDb, Firebase\n",
            "Familiar With: ML, API, POSTMAN, Git, Cloud\n",
            "\n",
            "Relevant Coursework\n",
            "\n",
            "• Data Structures And Algorithms\n",
            "• Operating Systems\n",
            "\n",
            "• Design and Analysis of\n",
            "Algorithms\n",
            "\n",
            "• Database Management System\n",
            "• Systems Software\n",
            "\n",
            "Extracurricular / Achievements\n",
            "\n",
            "• Management Co-Lead - Managed more than 300 students during the Spring Fiesta (Annual Fest) of IIIT Surat.\n",
            "\n",
            "• Football Captain - Led IIIT Surat’s 15 memberred Football Team at the 6th INTER-IIIT SPORTS MEET,\n",
            "along with 21 other IIITs (over 1700 students).\n",
            "\n",
            "• Sports Head in the Spring Fiesta. Organised over 5 sports (20+ TEAMS) over a period of 3 days, ensuring\n",
            "continuous display of teamwork. Coordinated with more than 25 Sub-ordinates during the process.\n",
            "\n",
            "• Indominous Core Team - Orchestrated and organised Inter-Departmental football tournament as Football Lead.\n",
            "\n",
            "• Achieved 6th rank among 150 batch-mates in CodeRush organised by Newton School\n",
            "\n",
            "• Solved 600+ questions over CODEFORCES and LEETCODE.\n",
            "\n",
            "• Ranked in top 20 in DevHeat beta\n",
            "\n",
            "mailto:vk96154.20@gmail.com\n",
            "https://www.linkedin.com/in/vinay-kumar-0818a81ab/\n",
            "https://github.com/kumar20vinay\n",
            "https://codeforces.com/profile/Vinay2011\n",
            "https://leetcode.com/Kumar_Vinay/\n",
            "\n",
            "\tEducation\n",
            "\tExperience\n",
            "\tProject Work\n",
            "\tTechnical Skills\n",
            "\tRelevant Coursework\n",
            "\tExtracurricular / Achievements\n",
            "\n",
            "\n"
          ]
        }
      ],
      "source": [
        "text = file_data['content']\n",
        "print(text)"
      ]
    },
    {
      "cell_type": "code",
      "execution_count": null,
      "metadata": {
        "id": "tS4_spDMMiVt"
      },
      "outputs": [],
      "source": [
        "parsed_content = {}"
      ]
    },
    {
      "cell_type": "code",
      "execution_count": null,
      "metadata": {
        "colab": {
          "base_uri": "https://localhost:8080/"
        },
        "id": "IuDW4jSKMw_w",
        "outputId": "1c54dde5-be35-4a3d-d0c9-f1dd6fdd35db"
      },
      "outputs": [
        {
          "output_type": "stream",
          "name": "stdout",
          "text": [
            "['vk96154.20@gmail.com']\n"
          ]
        }
      ],
      "source": [
        "#E-MAIL\n",
        "import re\n",
        "def get_email_addresses(string):\n",
        "    r = re.compile(r'[\\w\\.-]+@[\\w\\.-]+')\n",
        "    return r.findall(string)\n",
        "\n",
        "email = get_email_addresses(text)\n",
        "emails = reduce(lambda re, x: re+[x] if x not in re else re, email, [])\n",
        "print(emails)\n",
        "parsed_content['E-mail'] = email"
      ]
    },
    {
      "cell_type": "code",
      "execution_count": null,
      "metadata": {
        "colab": {
          "base_uri": "https://localhost:8080/"
        },
        "id": "LDAJ2zoLMw8J",
        "outputId": "a03a8285-5beb-4080-d6a2-b42ad2a0f9d2"
      },
      "outputs": [
        {
          "output_type": "stream",
          "name": "stdout",
          "text": [
            "9340332405\n"
          ]
        }
      ],
      "source": [
        "#PHONE NUMBER\n",
        "import re\n",
        "def get_phone_numbers(string):\n",
        "    r = re.compile(r'(\\d{3}[-\\.\\s]??\\d{3}[-\\.\\s]??\\d{4}|\\(\\d{3}\\)\\s*\\d{3}[-\\.\\s]??\\d{4}|\\d{3}[-\\.\\s]??\\d{4})')\n",
        "    phone_numbers = r.findall(string)\n",
        "    return [re.sub(r'\\D', '', num) for num in phone_numbers]\n",
        "\n",
        "phone_number= get_phone_numbers(text)\n",
        "print(phone_number[0])\n"
      ]
    },
    {
      "cell_type": "code",
      "execution_count": null,
      "metadata": {
        "colab": {
          "base_uri": "https://localhost:8080/"
        },
        "id": "WYQ3AY48Mw5m",
        "outputId": "86b79fa4-aa02-4852-b518-777e9f7ff6b8"
      },
      "outputs": [
        {
          "output_type": "stream",
          "name": "stdout",
          "text": [
            "Name: Vinay Kumar\n"
          ]
        }
      ],
      "source": [
        "import spacy\n",
        "nlp = spacy.load('en_core_web_sm')\n",
        "from spacy.matcher import Matcher\n",
        "matcher = Matcher(nlp.vocab)\n",
        "\n",
        "def extract_name(text):\n",
        "   nlp_text = nlp(text)\n",
        "\n",
        "   # First name and Last name are always Proper Nouns\n",
        "   pattern = [{'POS': 'PROPN'}, {'POS': 'PROPN'}]\n",
        "\n",
        "   matcher.add('NAME', [pattern], on_match = None)\n",
        "\n",
        "   matches = matcher(nlp_text)\n",
        "\n",
        "   for match_id, start, end in matches:\n",
        "       span = nlp_text[start:end]\n",
        "       return span.text\n",
        "\n",
        "name = extract_name(text)\n",
        "print(\"Name:\", name)\n",
        "parsed_content['Name'] =  name"
      ]
    },
    {
      "cell_type": "code",
      "execution_count": null,
      "metadata": {
        "id": "UtpSwNA0Mw3H"
      },
      "outputs": [],
      "source": [
        "Keywords = [\"education\",\n",
        "            \"summary\",\n",
        "            \"accomplishments\",\n",
        "            \"executive profile\",\n",
        "            \"professional profile\",\n",
        "            \"personal profile\",\n",
        "            \"work background\",\n",
        "            \"academic profile\",\n",
        "            \"other activities\",\n",
        "            \"qualifications\",\n",
        "            \"experience\",\n",
        "            \"interests\",\n",
        "            \"skills\",\n",
        "            \"achievements\",\n",
        "            \"publications\",\n",
        "            \"publication\",\n",
        "            \"certifications\",\n",
        "            \"workshops\",\n",
        "            \"project work\",\n",
        "            \"internships\",\n",
        "            \"trainings\",\n",
        "            \"hobbies\",\n",
        "            \"overview\",\n",
        "            \"objective\",\n",
        "            \"position of responsibility\",\n",
        "            \"jobs\"\n",
        "           ]"
      ]
    },
    {
      "cell_type": "code",
      "execution_count": null,
      "metadata": {
        "colab": {
          "base_uri": "https://localhost:8080/"
        },
        "id": "bQ8QyWDlMw0u",
        "outputId": "3a7fed05-b768-436a-acef-9d7a8a12714f"
      },
      "outputs": [
        {
          "output_type": "stream",
          "name": "stdout",
          "text": [
            "                                     vinay kumar surat, gujarat  � 9340332405 # vk96154.20@gmail.com ï vinay kumar § github.com/kumar20vinay  education  indian institute of information technology surat, gujarat 2021 – 2025  bachelor of technology in computer science and engineering cgpa 8.23/10 till 4th sem  experience  gdsc iiit surat july 2022 – july 2023  junior developer surat, gujarat  • collaborated with over 30 other junior developer’s on various projects.  • mentored more than 50 students during the hackathons.  project work  visehousing | machine learning september 2023  • predicting house prices using linear regression and gradient boosting regressor.  • implemented using python libraries such as matplotlib, pandas and numpy.  talkx | javascript, react.js, node.js, mongodb, socket.io july 2023  • developed a sophisticated web app for chatting from scratch using the mern stack (mongodb, express.js, react, node.js).  • enabled real-time communication between users using socket.io for instant responses.  • implemented secure user authentication and authorization mechanisms to protect user data and chat history.  • secure private communication among groups.  innsight | javascript, react.js, node.js, mongodb june 2023  • online hotel booking web-portal offering a seamless experience for both hosts and guests  • utilized the mern stack (mongodb, express.js, react, node.js) for development and axios for api requests.  • implemented a robust user authentication system for secure registration and login.  • prioritized security by implementing measures such as input validation, encryption, and protection against common web vulnerabilities.  technical skills  languages: python, c, javascript, sql, c++ web developement: html/css , node.js, react.js, express.js databases: mongodb, firebase familiar with: ml, api, postman, git, cloud  relevant coursework  • data structures and algorithms • operating systems  • design and analysis of algorithms  • database management system • systems software  extracurricular / achievements  • management co-lead - managed more than 300 students during the spring fiesta (annual fest) of iiit surat.  • football captain - led iiit surat’s 15 memberred football team at the 6th inter-iiit sports meet, along with 21 other iiits (over 1700 students).  • sports head in the spring fiesta. organised over 5 sports (20+ teams) over a period of 3 days, ensuring continuous display of teamwork. coordinated with more than 25 sub-ordinates during the process.  • indominous core team - orchestrated and organised inter-departmental football tournament as football lead.  • achieved 6th rank among 150 batch-mates in coderush organised by newton school  • solved 600+ questions over codeforces and leetcode.  • ranked in top 20 in devheat beta  mailto:vk96154.20@gmail.com https://www.linkedin.com/in/vinay-kumar-0818a81ab/ https://github.com/kumar20vinay https://codeforces.com/profile/vinay2011 https://leetcode.com/kumar_vinay/  \teducation \texperience \tproject work \ttechnical skills \trelevant coursework \textracurricular / achievements  \n"
          ]
        }
      ],
      "source": [
        "text = text.replace(\"\\n\",\" \")\n",
        "text = text.replace(\"[^a-zA-Z0-9]\", \" \");\n",
        "re.sub('\\W+','', text)\n",
        "text = text.lower()\n",
        "print(text)"
      ]
    },
    {
      "cell_type": "code",
      "execution_count": null,
      "metadata": {
        "id": "XE9s8qjcMwx6"
      },
      "outputs": [],
      "source": [
        "content = {}\n",
        "indices = []\n",
        "keys = []\n",
        "for key in Keywords:\n",
        "    try:\n",
        "        content[key] = text[text.index(key) + len(key):]\n",
        "        indices.append(text.index(key))\n",
        "        keys.append(key)\n",
        "    except:\n",
        "        pass\n"
      ]
    },
    {
      "cell_type": "code",
      "execution_count": null,
      "metadata": {
        "colab": {
          "base_uri": "https://localhost:8080/"
        },
        "id": "5NwRRVcWMwvj",
        "outputId": "1f361192-cac4-444b-b868-947b4e2c12eb"
      },
      "outputs": [
        {
          "output_type": "execute_result",
          "data": {
            "text/plain": [
              "['education', 'experience', 'project work', 'skills', 'achievements']"
            ]
          },
          "metadata": {},
          "execution_count": 53
        }
      ],
      "source": [
        "#Sorting the indices\n",
        "zipped_lists = zip(indices, keys)\n",
        "sorted_pairs = sorted(zipped_lists)\n",
        "sorted_pairs\n",
        "\n",
        "tuples = zip(*sorted_pairs)\n",
        "indices, keys = [ list(tuple) for tuple in  tuples]\n",
        "keys"
      ]
    },
    {
      "cell_type": "code",
      "execution_count": null,
      "metadata": {
        "id": "zf5nzEwlMws3"
      },
      "outputs": [],
      "source": [
        "#Keeping the required content and removing the redundant part\n",
        "content = []\n",
        "for idx in range(len(indices)):\n",
        "    if idx != len(indices)-1:\n",
        "        content.append(text[indices[idx]: indices[idx+1]])\n",
        "    else:\n",
        "        content.append(text[indices[idx]: ])"
      ]
    },
    {
      "cell_type": "code",
      "execution_count": null,
      "metadata": {
        "id": "X_XwkjXbMwqW"
      },
      "outputs": [],
      "source": [
        "for i in range(len(indices)):\n",
        "    parsed_content[keys[i]] = content[i]"
      ]
    },
    {
      "cell_type": "code",
      "execution_count": null,
      "metadata": {
        "id": "WC89Tc2DW23l"
      },
      "outputs": [],
      "source": [
        "parsed_content['ImpData'] = ' '.join(parsed_content[column] for column in keys)"
      ]
    },
    {
      "cell_type": "code",
      "execution_count": null,
      "metadata": {
        "colab": {
          "base_uri": "https://localhost:8080/"
        },
        "id": "vsQC8U6HzypM",
        "outputId": "0637bf38-a236-4a4c-9261-2cb274b994a2"
      },
      "outputs": [
        {
          "output_type": "stream",
          "name": "stdout",
          "text": [
            "education  indian institute of information technology surat, gujarat 2021 – 2025  bachelor of technology in computer science and engineering cgpa 8.23/10 till 4th sem   experience  gdsc iiit surat july 2022 – july 2023  junior developer surat, gujarat  • collaborated with over 30 other junior developer’s on various projects.  • mentored more than 50 students during the hackathons.   project work  visehousing | machine learning september 2023  • predicting house prices using linear regression and gradient boosting regressor.  • implemented using python libraries such as matplotlib, pandas and numpy.  talkx | javascript, react.js, node.js, mongodb, socket.io july 2023  • developed a sophisticated web app for chatting from scratch using the mern stack (mongodb, express.js, react, node.js).  • enabled real-time communication between users using socket.io for instant responses.  • implemented secure user authentication and authorization mechanisms to protect user data and chat history.  • secure private communication among groups.  innsight | javascript, react.js, node.js, mongodb june 2023  • online hotel booking web-portal offering a seamless experience for both hosts and guests  • utilized the mern stack (mongodb, express.js, react, node.js) for development and axios for api requests.  • implemented a robust user authentication system for secure registration and login.  • prioritized security by implementing measures such as input validation, encryption, and protection against common web vulnerabilities.  technical  skills  languages: python, c, javascript, sql, c++ web developement: html/css , node.js, react.js, express.js databases: mongodb, firebase familiar with: ml, api, postman, git, cloud  relevant coursework  • data structures and algorithms • operating systems  • design and analysis of algorithms  • database management system • systems software  extracurricular /  achievements  • management co-lead - managed more than 300 students during the spring fiesta (annual fest) of iiit surat.  • football captain - led iiit surat’s 15 memberred football team at the 6th inter-iiit sports meet, along with 21 other iiits (over 1700 students).  • sports head in the spring fiesta. organised over 5 sports (20+ teams) over a period of 3 days, ensuring continuous display of teamwork. coordinated with more than 25 sub-ordinates during the process.  • indominous core team - orchestrated and organised inter-departmental football tournament as football lead.  • achieved 6th rank among 150 batch-mates in coderush organised by newton school  • solved 600+ questions over codeforces and leetcode.  • ranked in top 20 in devheat beta  mailto:vk96154.20@gmail.com https://www.linkedin.com/in/vinay-kumar-0818a81ab/ https://github.com/kumar20vinay https://codeforces.com/profile/vinay2011 https://leetcode.com/kumar_vinay/  \teducation \texperience \tproject work \ttechnical skills \trelevant coursework \textracurricular / achievements  \n"
          ]
        }
      ],
      "source": [
        "print(parsed_content['ImpData'])"
      ]
    },
    {
      "cell_type": "markdown",
      "metadata": {
        "id": "BJaEd8tmASb8"
      },
      "source": [
        "# **9. Prediction System**"
      ]
    },
    {
      "cell_type": "code",
      "execution_count": null,
      "metadata": {
        "id": "kMEHszxpA5pO"
      },
      "outputs": [],
      "source": [
        "import pickle\n",
        "pickle.dump(tfidf,open('tfidf.pkl','wb'))\n",
        "pickle.dump(clf, open('clf.pkl', 'wb'))"
      ]
    },
    {
      "cell_type": "code",
      "execution_count": null,
      "metadata": {
        "id": "EQ3UQjJC0FvE"
      },
      "outputs": [],
      "source": [
        "import re\n",
        "def clean_resume(resume_text):\n",
        "    clean_text = re.sub('http\\S+\\s*', ' ', resume_text)\n",
        "    clean_text = re.sub('RT|cc', ' ', clean_text)\n",
        "    clean_text = re.sub('#\\S+', '', clean_text)\n",
        "    clean_text = re.sub('@\\S+', '  ', clean_text)\n",
        "    clean_text = re.sub('[%s]' % re.escape(\"\"\"!\"#$%&'()*+,-./:;<=>?@[\\]^_`{|}~\"\"\"), ' ', clean_text)\n",
        "    clean_text = re.sub(r'[^\\x00-\\x7f]', r' ', clean_text)\n",
        "    clean_text = re.sub('\\s+', ' ', clean_text)\n",
        "    return clean_text"
      ]
    },
    {
      "cell_type": "code",
      "execution_count": null,
      "metadata": {
        "id": "Y4ajssfP0FvQ"
      },
      "outputs": [],
      "source": [
        "input_data = cleanResume(parsed_content['ImpData'])\n",
        "input_features = tfidf.transform([input_data])\n",
        "prediction_id = clf.predict(input_features)[0]"
      ]
    },
    {
      "cell_type": "code",
      "execution_count": null,
      "metadata": {
        "colab": {
          "base_uri": "https://localhost:8080/"
        },
        "id": "IDeCLqbjAsn_",
        "outputId": "5b925d43-f764-4a7d-81c5-b972487327b2"
      },
      "outputs": [
        {
          "output_type": "stream",
          "name": "stdout",
          "text": [
            "Predicted Category: engineer\n"
          ]
        }
      ],
      "source": [
        "import pickle\n",
        "\n",
        "clf = pickle.load(open('clf.pkl', 'rb'))\n",
        "\n",
        "cleaned_resume = cleanResume(parsed_content['ImpData'])\n",
        "\n",
        "input_features = tfidf.transform([cleaned_resume])\n",
        "\n",
        "prediction_id = clf.predict(input_features)[0]\n",
        "\n",
        "Category_mapping = {\n",
        "     0:\"arts\",\n",
        "     2:\"engineer\",\n",
        "     1:\"banking\"\n",
        "}\n",
        "\n",
        "Category_name = Category_mapping.get(prediction_id, \"Unknown\")\n",
        "\n",
        "print(\"Predicted Category:\", Category_name)"
      ]
    }
  ],
  "metadata": {
    "colab": {
      "provenance": []
    },
    "kernelspec": {
      "display_name": "Python 3",
      "name": "python3"
    },
    "language_info": {
      "name": "python"
    }
  },
  "nbformat": 4,
  "nbformat_minor": 0
}